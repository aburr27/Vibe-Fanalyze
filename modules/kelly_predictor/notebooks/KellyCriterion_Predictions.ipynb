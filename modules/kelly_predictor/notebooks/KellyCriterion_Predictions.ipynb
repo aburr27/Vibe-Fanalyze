{
 "cells": [
  {
   "cell_type": "code",
   "execution_count": null,
   "id": "7272416c",
   "metadata": {},
   "outputs": [],
   "source": [
    "import json\n",
    "json.dumps({\n",
    "        \"cells\": [\n",
    "            {\n",
    "                \"cell_type\": \"markdown\",\n",
    "                \"metadata\": {},\n",
    "                \"source\": [\"# Kelly Criterion Predictions Notebook\\n\\nThis notebook is a starter to load the example CSV, run predictions and visualize results.\\n\"]\n",
    "            },\n",
    "            {\n",
    "                \"cell_type\": \"code\",\n",
    "                \"metadata\": {},\n",
    "                \"source\": [\n",
    "                    \"import pandas as pd\\n\",\n",
    "                    \"df = pd.read_csv('data/example_bet_data.csv')\\n\",\n",
    "                    \"df.head()\"\n",
    "                ]\n",
    "            }\n",
    "        ],\n",
    "        \"metadata\": {\n",
    "            \"kernelspec\": {\"display_name\": \"Python 3\", \"language\": \"python\", \"name\": \"python3\"},\n",
    "            \"language_info\": {\"name\": \"python\"}\n",
    "        },\n",
    "        \"nbformat\": 4,\n",
    "        \"nbformat_minor\": 5\n",
    "    })"
   ]
  }
 ],
 "metadata": {
  "kernelspec": {
   "display_name": ".venv",
   "language": "python",
   "name": "python3"
  },
  "language_info": {
   "codemirror_mode": {
    "name": "ipython",
    "version": 3
   },
   "file_extension": ".py",
   "mimetype": "text/x-python",
   "name": "python",
   "nbconvert_exporter": "python",
   "pygments_lexer": "ipython3",
   "version": "3.13.7"
  }
 },
 "nbformat": 4,
 "nbformat_minor": 5
}
